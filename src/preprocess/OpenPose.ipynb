{
 "cells": [
  {
   "cell_type": "markdown",
   "metadata": {},
   "source": [
    "---\n",
    "## Setup\n",
    "*   If you have not run the `FRCNN.ipynb` and the `SORT.ipynb` notebooks, those are the prior steps in the preprocessing pipeline, please run them before.\n",
    "*   This setup is just imports and result extraction from the previous stage.\n",
    "---"
   ]
  },
  {
   "cell_type": "markdown",
   "metadata": {},
   "source": [
    "### CoLab setup"
   ]
  },
  {
   "cell_type": "code",
   "execution_count": null,
   "metadata": {},
   "outputs": [
    {
     "name": "stdout",
     "output_type": "stream",
     "text": [
      "Mounted at /content/drive\n"
     ]
    }
   ],
   "source": [
    "ROOT = '/content/drive'\n",
    "from google.colab import drive\n",
    "drive.mount(ROOT)"
   ]
  },
  {
   "cell_type": "markdown",
   "metadata": {},
   "source": [
    "### Imports"
   ]
  },
  {
   "cell_type": "code",
   "execution_count": null,
   "metadata": {},
   "outputs": [],
   "source": [
    "import os\n",
    "import torch\n",
    "import shutil\n",
    "import subprocess\n",
    "from tqdm import tqdm\n",
    "from os.path import basename, splitext\n",
    "\n",
    "\n",
    "HOME_PATH='./'\n",
    "OPENPOSE_PATH=\"./openpose/\"\n",
    "FINAL_PATH = \"/content/final/\"\n",
    "KEYPOINTS_PATH = \"/content/keypoints/\"\n",
    "RAW_VIDEOS_PATH = \"/content/drive/MyDrive/ataxia_dataset/\"\n",
    "# use CUDA if available\n",
    "DEVICE = \"cuda\" if torch.cuda.is_available() else \"cpu\""
   ]
  },
  {
   "cell_type": "markdown",
   "metadata": {},
   "source": [
    "#### Extract output from previous phase"
   ]
  },
  {
   "cell_type": "code",
   "execution_count": null,
   "metadata": {},
   "outputs": [],
   "source": [
    "# extract final frames\n",
    "shutil.copy(RAW_VIDEOS_PATH + \"final_frames.zip\", \"/content/\")\n",
    "!unzip final_frames.zip\n",
    "!mv content/final/ /content/"
   ]
  },
  {
   "cell_type": "markdown",
   "metadata": {},
   "source": [
    "---\n",
    "## 5. KeyPoint extraction using OpenPose\n",
    "*   Now we will extract keypoints from all the frames using OpenPose, and store these as well.\n",
    "*   Run on a GPU runtime, takes about 3 hours.\n",
    "---"
   ]
  },
  {
   "cell_type": "markdown",
   "metadata": {},
   "source": [
    "### Installing OpenPose"
   ]
  },
  {
   "cell_type": "code",
   "execution_count": null,
   "metadata": {},
   "outputs": [],
   "source": [
    "# see: https://github.com/CMU-Perceptual-Computing-Lab/openpose/issues/949\n",
    "# install new CMake becaue of CUDA10\n",
    "!wget -q https://cmake.org/files/v3.17/cmake-3.17.2-Linux-x86_64.tar.gz\n",
    "!tar xfz cmake-3.17.2-Linux-x86_64.tar.gz --strip-components=1 -C /usr/local\n",
    "\n",
    "# install system dependencies\n",
    "!apt-get -qq install -y libatlas-base-dev libprotobuf-dev libleveldb-dev libsnappy-dev libhdf5-serial-dev protobuf-compiler libgflags-dev libgoogle-glog-dev liblmdb-dev opencl-headers ocl-icd-opencl-dev libviennacl-dev\n",
    "\n",
    "git_repo_url = 'https://github.com/CMU-Perceptual-Computing-Lab/openpose.git'\n",
    "project_name = splitext(basename(git_repo_url))[0]\n",
    "!rm -rf openpose\n",
    "# clone openpose\n",
    "!git clone -q --depth 1 $git_repo_url\n",
    "# --recursive necessary in the line below, as otherwise you can (sometimes) get \"lpthreads\" errors in cmake (\"undefined reference to `pthread_create'\" etc). See, for example, https://github.com/facebookarchive/caffe2/issues/1234\n",
    "!sed -i 's/execute_process(COMMAND git checkout --recursive master WORKING_DIRECTORY ${CMAKE_SOURCE_DIR}\\/3rdparty\\/caffe)/execute_process(COMMAND git checkout f019d0dfe86f49d1140961f8c7dec22130c83154 WORKING_DIRECTORY ${CMAKE_SOURCE_DIR}\\/3rdparty\\/caffe)/g' openpose/CMakeLists.txt\n",
    "!cd openpose && git submodule update --init --recursive --remote\n",
    "\n",
    "!wget \"https://drive.usercontent.google.com/download?id=1QCSxJZpnWvM00hx49CJ2zky7PWGzpcEh&export=download&authuser=0&confirm=t&uuid=50355e54-0445-4875-9d0e-3866a1f6239d&at=APZUnTVA3sHsK5rk-u2O6phIms2L%3A1711987634035\" -O models.zip\n",
    "\n",
    "!unzip models.zip -d openpose"
   ]
  },
  {
   "cell_type": "code",
   "execution_count": null,
   "metadata": {},
   "outputs": [],
   "source": [
    "!sed -i 's/executeShInItsFolder \"getModels.sh\"/# executeShInItsFolder \"getModels.sh\"/g' ./openpose/scripts/ubuntu/install_openpose_JetsonTX2_JetPack3.1.sh\n",
    "!sed -i 's/executeShInItsFolder \"getModels.sh\"/# executeShInItsFolder \"getModels.sh\"/g' ./openpose/scripts/ubuntu/install_openpose_JetsonTX2_JetPack3.3.sh\n",
    "!sed -i 's/download_model(\"BODY_25\"/# download_model(\"BODY_25\"/g' ./openpose/CMakeLists.txt\n",
    "!sed -i 's/78287B57CF85FA89C03F1393D368E5B7/# 78287B57CF85FA89C03F1393D368E5B7/g' ./openpose/CMakeLists.txt\n",
    "!sed -i 's/download_model(\"body (COCO)\"/# download_model(\"body (COCO)\"/g' ./openpose/CMakeLists.txt\n",
    "!sed -i 's/5156d31f670511fce9b4e28b403f2939/# 5156d31f670511fce9b4e28b403f2939/g' ./openpose/CMakeLists.txt\n",
    "!sed -i 's/download_model(\"body (MPI)\"/# download_model(\"body (MPI)\"/g' ./openpose/CMakeLists.txt\n",
    "!sed -i 's/2ca0990c7562bd7ae03f3f54afa96e00/# 2ca0990c7562bd7ae03f3f54afa96e00/g' ./openpose/CMakeLists.txt\n",
    "!sed -i 's/download_model(\"face\"/# download_model(\"face\"/g' ./openpose/CMakeLists.txt\n",
    "!sed -i 's/e747180d728fa4e4418c465828384333/# e747180d728fa4e4418c465828384333/g' ./openpose/CMakeLists.txt\n",
    "!sed -i 's/download_model(\"hand\"/# download_model(\"hand\"/g' ./openpose/CMakeLists.txt\n",
    "!sed -i 's/a82cfc3fea7c62f159e11bd3674c1531/# a82cfc3fea7c62f159e11bd3674c1531/g' ./openpose/CMakeLists.txt"
   ]
  },
  {
   "cell_type": "markdown",
   "metadata": {},
   "source": [
    "### Make (takes \\~ 10 minutes!)"
   ]
  },
  {
   "cell_type": "code",
   "execution_count": null,
   "metadata": {},
   "outputs": [],
   "source": [
    "!cd openpose && rm -rf build || true && mkdir build"
   ]
  },
  {
   "cell_type": "code",
   "execution_count": null,
   "metadata": {},
   "outputs": [],
   "source": [
    "cmake_file='/content/openpose/CMakeLists.txt'\n",
    "!cd openpose && sed -i 's/-DBUILD_python=OFF/-DBUILD_python=ON/g' $cmake_file\n",
    "!cd openpose && sed -i 's/-DBUILD_python_layer=OFF/-DBUILD_python_layer=ON/g' $cmake_file\n",
    "!cd openpose && sed -i 's/option(BUILD_PYTHON \"Build OpenPose python.\" OFF)/option(BUILD_PYTHON \"OpenPose python.\" ON)\\noption(BUILD_BIN_FOLDER \"Copy 3rd-party DLL files.\" ON)/g' $cmake_file"
   ]
  },
  {
   "cell_type": "code",
   "execution_count": null,
   "metadata": {},
   "outputs": [],
   "source": [
    "!cd openpose && cd build && cmake .. -DUSE_CUDNN=OFF -DGENERATE_PYTHON_BINDINGS:BOOL=\"1\" -DPYTHON_LIBRARY='/usr/lib/x86_64-linux-gnu/libpython3.10.so' && make -j`nproc`"
   ]
  },
  {
   "cell_type": "markdown",
   "metadata": {},
   "source": [
    "### Make the build executable"
   ]
  },
  {
   "cell_type": "code",
   "execution_count": null,
   "metadata": {},
   "outputs": [],
   "source": [
    "!cd $OPENPOSE_PATH && chmod -R 755 './build/'"
   ]
  },
  {
   "cell_type": "markdown",
   "metadata": {},
   "source": [
    "### Extract keypoints"
   ]
  },
  {
   "cell_type": "code",
   "execution_count": null,
   "metadata": {},
   "outputs": [],
   "source": [
    "!mkdir \"$KEYPOINTS_PATH\""
   ]
  },
  {
   "cell_type": "code",
   "execution_count": null,
   "metadata": {},
   "outputs": [],
   "source": [
    "# Using these frames,\n",
    "for video in tqdm(os.listdir(FINAL_PATH)):\n",
    "  # Extract keypoints using openpose\n",
    "  if os.path.exists(f\"/content/{KEYPOINTS_PATH}/{video[:-4]}/\"):\n",
    "    continue\n",
    "  os.mkdir(f\"/content/{KEYPOINTS_PATH}/{video[:-4]}/\")\n",
    "  track_label = os.listdir(f\"/content/{FINAL_PATH}/{video[:-4]}/\")[0]\n",
    "  openposed = [\"./build/examples/openpose/openpose.bin\",\n",
    "                \"--image_dir\", f\"/content/{FINAL_PATH}/{video[:-4]}/{track_label}/\", \\\n",
    "                \"--number_people_max\", \"1\", \\\n",
    "                \"--write_json\", f\"/content/{KEYPOINTS_PATH}/{video[:-4]}/\", \\\n",
    "                \"--keypoint_scale\", \"3\", \\\n",
    "                \"--display\", \"0\", \\\n",
    "                \"--render_pose\", \"0\", \\\n",
    "                \"--model_pose\", \"BODY_25\",]\n",
    "  # need to run this from the openpose dir\n",
    "  openpoze = subprocess.run(openposed, stderr=subprocess.PIPE, stdout=subprocess.PIPE, cwd=\"/content/openpose\")\n",
    "  print(openpoze.stderr)"
   ]
  },
  {
   "cell_type": "code",
   "execution_count": null,
   "metadata": {},
   "outputs": [],
   "source": [
    "!zip keypoints.zip -r \"$KEYPOINTS_PATH\"\n",
    "shutil.copy(\"keypoints.zip\", RAW_VIDEOS_PATH) # the keypoints will be in your drive."
   ]
  },
  {
   "cell_type": "markdown",
   "metadata": {},
   "source": [
    "## Thank you!\n",
    "This is all on the extraction side! We now have keypoints of each patient, we will now form gait cycles from these keypoints and train out network.\n",
    "*   We had manually inspected the videos by overlaying these keypoints and unfortunately, some of them (~5-6) do have problems,\n",
    "*   For such cases, we manually cropped the patient and ran openpose on those videos,\n",
    "*   This happens because the Auto-Gait paper's release has blurred many details and these videos are out-of-distribution for several networks."
   ]
  }
 ],
 "metadata": {
  "language_info": {
   "name": "python"
  }
 },
 "nbformat": 4,
 "nbformat_minor": 2
}
